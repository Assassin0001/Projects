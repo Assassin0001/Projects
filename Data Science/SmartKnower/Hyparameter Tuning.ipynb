{
 "cells": [
  {
   "cell_type": "code",
   "execution_count": 1,
   "id": "59762a34",
   "metadata": {},
   "outputs": [],
   "source": [
    "import pandas as pd\n",
    "import numpy as np\n",
    "import matplotlib.pyplot as plt"
   ]
  },
  {
   "cell_type": "code",
   "execution_count": 2,
   "id": "34aa355a",
   "metadata": {},
   "outputs": [
    {
     "data": {
      "text/html": [
       "<div>\n",
       "<style scoped>\n",
       "    .dataframe tbody tr th:only-of-type {\n",
       "        vertical-align: middle;\n",
       "    }\n",
       "\n",
       "    .dataframe tbody tr th {\n",
       "        vertical-align: top;\n",
       "    }\n",
       "\n",
       "    .dataframe thead th {\n",
       "        text-align: right;\n",
       "    }\n",
       "</style>\n",
       "<table border=\"1\" class=\"dataframe\">\n",
       "  <thead>\n",
       "    <tr style=\"text-align: right;\">\n",
       "      <th></th>\n",
       "      <th>0</th>\n",
       "      <th>1</th>\n",
       "      <th>2</th>\n",
       "      <th>3</th>\n",
       "      <th>4</th>\n",
       "      <th>5</th>\n",
       "      <th>6</th>\n",
       "      <th>7</th>\n",
       "      <th>8</th>\n",
       "      <th>9</th>\n",
       "      <th>...</th>\n",
       "      <th>51</th>\n",
       "      <th>52</th>\n",
       "      <th>53</th>\n",
       "      <th>54</th>\n",
       "      <th>55</th>\n",
       "      <th>56</th>\n",
       "      <th>57</th>\n",
       "      <th>58</th>\n",
       "      <th>59</th>\n",
       "      <th>60</th>\n",
       "    </tr>\n",
       "  </thead>\n",
       "  <tbody>\n",
       "    <tr>\n",
       "      <th>0</th>\n",
       "      <td>0.0200</td>\n",
       "      <td>0.0371</td>\n",
       "      <td>0.0428</td>\n",
       "      <td>0.0207</td>\n",
       "      <td>0.0954</td>\n",
       "      <td>0.0986</td>\n",
       "      <td>0.1539</td>\n",
       "      <td>0.1601</td>\n",
       "      <td>0.3109</td>\n",
       "      <td>0.2111</td>\n",
       "      <td>...</td>\n",
       "      <td>0.0027</td>\n",
       "      <td>0.0065</td>\n",
       "      <td>0.0159</td>\n",
       "      <td>0.0072</td>\n",
       "      <td>0.0167</td>\n",
       "      <td>0.0180</td>\n",
       "      <td>0.0084</td>\n",
       "      <td>0.0090</td>\n",
       "      <td>0.0032</td>\n",
       "      <td>R</td>\n",
       "    </tr>\n",
       "    <tr>\n",
       "      <th>1</th>\n",
       "      <td>0.0453</td>\n",
       "      <td>0.0523</td>\n",
       "      <td>0.0843</td>\n",
       "      <td>0.0689</td>\n",
       "      <td>0.1183</td>\n",
       "      <td>0.2583</td>\n",
       "      <td>0.2156</td>\n",
       "      <td>0.3481</td>\n",
       "      <td>0.3337</td>\n",
       "      <td>0.2872</td>\n",
       "      <td>...</td>\n",
       "      <td>0.0084</td>\n",
       "      <td>0.0089</td>\n",
       "      <td>0.0048</td>\n",
       "      <td>0.0094</td>\n",
       "      <td>0.0191</td>\n",
       "      <td>0.0140</td>\n",
       "      <td>0.0049</td>\n",
       "      <td>0.0052</td>\n",
       "      <td>0.0044</td>\n",
       "      <td>R</td>\n",
       "    </tr>\n",
       "    <tr>\n",
       "      <th>2</th>\n",
       "      <td>0.0262</td>\n",
       "      <td>0.0582</td>\n",
       "      <td>0.1099</td>\n",
       "      <td>0.1083</td>\n",
       "      <td>0.0974</td>\n",
       "      <td>0.2280</td>\n",
       "      <td>0.2431</td>\n",
       "      <td>0.3771</td>\n",
       "      <td>0.5598</td>\n",
       "      <td>0.6194</td>\n",
       "      <td>...</td>\n",
       "      <td>0.0232</td>\n",
       "      <td>0.0166</td>\n",
       "      <td>0.0095</td>\n",
       "      <td>0.0180</td>\n",
       "      <td>0.0244</td>\n",
       "      <td>0.0316</td>\n",
       "      <td>0.0164</td>\n",
       "      <td>0.0095</td>\n",
       "      <td>0.0078</td>\n",
       "      <td>R</td>\n",
       "    </tr>\n",
       "    <tr>\n",
       "      <th>3</th>\n",
       "      <td>0.0100</td>\n",
       "      <td>0.0171</td>\n",
       "      <td>0.0623</td>\n",
       "      <td>0.0205</td>\n",
       "      <td>0.0205</td>\n",
       "      <td>0.0368</td>\n",
       "      <td>0.1098</td>\n",
       "      <td>0.1276</td>\n",
       "      <td>0.0598</td>\n",
       "      <td>0.1264</td>\n",
       "      <td>...</td>\n",
       "      <td>0.0121</td>\n",
       "      <td>0.0036</td>\n",
       "      <td>0.0150</td>\n",
       "      <td>0.0085</td>\n",
       "      <td>0.0073</td>\n",
       "      <td>0.0050</td>\n",
       "      <td>0.0044</td>\n",
       "      <td>0.0040</td>\n",
       "      <td>0.0117</td>\n",
       "      <td>R</td>\n",
       "    </tr>\n",
       "    <tr>\n",
       "      <th>4</th>\n",
       "      <td>0.0762</td>\n",
       "      <td>0.0666</td>\n",
       "      <td>0.0481</td>\n",
       "      <td>0.0394</td>\n",
       "      <td>0.0590</td>\n",
       "      <td>0.0649</td>\n",
       "      <td>0.1209</td>\n",
       "      <td>0.2467</td>\n",
       "      <td>0.3564</td>\n",
       "      <td>0.4459</td>\n",
       "      <td>...</td>\n",
       "      <td>0.0031</td>\n",
       "      <td>0.0054</td>\n",
       "      <td>0.0105</td>\n",
       "      <td>0.0110</td>\n",
       "      <td>0.0015</td>\n",
       "      <td>0.0072</td>\n",
       "      <td>0.0048</td>\n",
       "      <td>0.0107</td>\n",
       "      <td>0.0094</td>\n",
       "      <td>R</td>\n",
       "    </tr>\n",
       "  </tbody>\n",
       "</table>\n",
       "<p>5 rows × 61 columns</p>\n",
       "</div>"
      ],
      "text/plain": [
       "       0       1       2       3       4       5       6       7       8   \\\n",
       "0  0.0200  0.0371  0.0428  0.0207  0.0954  0.0986  0.1539  0.1601  0.3109   \n",
       "1  0.0453  0.0523  0.0843  0.0689  0.1183  0.2583  0.2156  0.3481  0.3337   \n",
       "2  0.0262  0.0582  0.1099  0.1083  0.0974  0.2280  0.2431  0.3771  0.5598   \n",
       "3  0.0100  0.0171  0.0623  0.0205  0.0205  0.0368  0.1098  0.1276  0.0598   \n",
       "4  0.0762  0.0666  0.0481  0.0394  0.0590  0.0649  0.1209  0.2467  0.3564   \n",
       "\n",
       "       9   ...      51      52      53      54      55      56      57  \\\n",
       "0  0.2111  ...  0.0027  0.0065  0.0159  0.0072  0.0167  0.0180  0.0084   \n",
       "1  0.2872  ...  0.0084  0.0089  0.0048  0.0094  0.0191  0.0140  0.0049   \n",
       "2  0.6194  ...  0.0232  0.0166  0.0095  0.0180  0.0244  0.0316  0.0164   \n",
       "3  0.1264  ...  0.0121  0.0036  0.0150  0.0085  0.0073  0.0050  0.0044   \n",
       "4  0.4459  ...  0.0031  0.0054  0.0105  0.0110  0.0015  0.0072  0.0048   \n",
       "\n",
       "       58      59  60  \n",
       "0  0.0090  0.0032   R  \n",
       "1  0.0052  0.0044   R  \n",
       "2  0.0095  0.0078   R  \n",
       "3  0.0040  0.0117   R  \n",
       "4  0.0107  0.0094   R  \n",
       "\n",
       "[5 rows x 61 columns]"
      ]
     },
     "execution_count": 2,
     "metadata": {},
     "output_type": "execute_result"
    }
   ],
   "source": [
    "df=pd.read_csv('sonar.csv',header=None)\n",
    "df.head()"
   ]
  },
  {
   "cell_type": "code",
   "execution_count": 3,
   "id": "150af148",
   "metadata": {},
   "outputs": [
    {
     "data": {
      "text/plain": [
       "(208, 61)"
      ]
     },
     "execution_count": 3,
     "metadata": {},
     "output_type": "execute_result"
    }
   ],
   "source": [
    "df.shape"
   ]
  },
  {
   "cell_type": "code",
   "execution_count": 9,
   "id": "5a6a577a",
   "metadata": {},
   "outputs": [
    {
     "data": {
      "text/plain": [
       "M    111\n",
       "R     97\n",
       "Name: 60, dtype: int64"
      ]
     },
     "execution_count": 9,
     "metadata": {},
     "output_type": "execute_result"
    }
   ],
   "source": [
    "d1=df[60].value_counts()\n",
    "d1"
   ]
  },
  {
   "cell_type": "code",
   "execution_count": 12,
   "id": "9f5940fa",
   "metadata": {},
   "outputs": [
    {
     "data": {
      "image/png": "[encoded data removed]",
      "text/plain": [
       "<Figure size 432x288 with 1 Axes>"
      ]
     },
     "metadata": {
      "needs_background": "light"
     },
     "output_type": "display_data"
    }
   ],
   "source": [
    "plt.bar(d1.index,d1.values,color=['blue','orange'])\n",
    "plt.show()"
   ]
  },
  {
   "cell_type": "code",
   "execution_count": 10,
   "id": "b2d12699",
   "metadata": {},
   "outputs": [
    {
     "data": {
      "text/plain": [
       "0     float64\n",
       "1     float64\n",
       "2     float64\n",
       "3     float64\n",
       "4     float64\n",
       "       ...   \n",
       "56    float64\n",
       "57    float64\n",
       "58    float64\n",
       "59    float64\n",
       "60     object\n",
       "Length: 61, dtype: object"
      ]
     },
     "execution_count": 10,
     "metadata": {},
     "output_type": "execute_result"
    }
   ],
   "source": [
    "df.dtypes"
   ]
  },
  {
   "cell_type": "code",
   "execution_count": 11,
   "id": "c40bfa3d",
   "metadata": {},
   "outputs": [
    {
     "data": {
      "text/plain": [
       "0"
      ]
     },
     "execution_count": 11,
     "metadata": {},
     "output_type": "execute_result"
    }
   ],
   "source": [
    "df.duplicated().sum()"
   ]
  },
  {
   "cell_type": "code",
   "execution_count": 13,
   "id": "852854eb",
   "metadata": {},
   "outputs": [
    {
     "name": "stdout",
     "output_type": "stream",
     "text": [
      "(208, 60)\n",
      "(208,)\n"
     ]
    }
   ],
   "source": [
    "x=df.iloc[:,:-1]\n",
    "y=df.iloc[:,-1]\n",
    "print(x.shape)\n",
    "print(y.shape)"
   ]
  },
  {
   "cell_type": "code",
   "execution_count": 14,
   "id": "bbfba6b6",
   "metadata": {},
   "outputs": [
    {
     "data": {
      "text/plain": [
       "0    R\n",
       "1    R\n",
       "2    R\n",
       "3    R\n",
       "4    R\n",
       "Name: 60, dtype: object"
      ]
     },
     "execution_count": 14,
     "metadata": {},
     "output_type": "execute_result"
    }
   ],
   "source": [
    "y.head()"
   ]
  },
  {
   "cell_type": "code",
   "execution_count": 17,
   "id": "55fc269b",
   "metadata": {},
   "outputs": [
    {
     "name": "stdout",
     "output_type": "stream",
     "text": [
      "(156, 60)\n",
      "(52, 60)\n",
      "(156,)\n",
      "(52,)\n"
     ]
    }
   ],
   "source": [
    "from sklearn.model_selection import train_test_split\n",
    "x_train,x_test,y_train,y_test=train_test_split(x,y,test_size=0.25)\n",
    "print(x_train.shape)\n",
    "print(x_test.shape)\n",
    "print(y_train.shape)\n",
    "print(y_test.shape)"
   ]
  },
  {
   "cell_type": "code",
   "execution_count": 19,
   "id": "3b825d1e",
   "metadata": {},
   "outputs": [],
   "source": [
    "from sklearn.tree import DecisionTreeClassifier\n",
    "from sklearn.ensemble import RandomForestClassifier\n",
    "from sklearn.neighbors import KNeighborsClassifier"
   ]
  },
  {
   "cell_type": "code",
   "execution_count": 20,
   "id": "c411e2b9",
   "metadata": {},
   "outputs": [],
   "source": [
    "from sklearn.metrics import confusion_matrix,classification_report,accuracy_score"
   ]
  },
  {
   "cell_type": "code",
   "execution_count": 28,
   "id": "84f539a7",
   "metadata": {},
   "outputs": [],
   "source": [
    "def gen_metrics(ytest,ypred):\n",
    "    print('Accuracy Score',accuracy_score(ytest,ypred))\n",
    "    cm=confusion_matrix(ytest,ypred)\n",
    "    print(cm)\n",
    "    print(classification_report(ytest,ypred))\n",
    "\n",
    "def train_test_score(model):\n",
    "    print('Training Score',model.score(x_train,y_train))\n",
    "    print('Testing Score',model.score(x_test,y_test))"
   ]
  },
  {
   "cell_type": "markdown",
   "id": "3b00a29e",
   "metadata": {},
   "source": [
    "#### Decision Tree Classifier"
   ]
  },
  {
   "cell_type": "code",
   "execution_count": 66,
   "id": "ba6a4642",
   "metadata": {},
   "outputs": [
    {
     "data": {
      "text/plain": [
       "DecisionTreeClassifier(criterion='entropy', max_depth=12, min_samples_split=10)"
      ]
     },
     "execution_count": 66,
     "metadata": {},
     "output_type": "execute_result"
    }
   ],
   "source": [
    "m1=DecisionTreeClassifier(criterion='entropy',max_depth=12,min_samples_split=10)\n",
    "m1.fit(x_train,y_train)"
   ]
  },
  {
   "cell_type": "code",
   "execution_count": 67,
   "id": "709daeb1",
   "metadata": {},
   "outputs": [
    {
     "name": "stdout",
     "output_type": "stream",
     "text": [
      "Training Score 0.9935897435897436\n",
      "Testing Score 0.7884615384615384\n"
     ]
    }
   ],
   "source": [
    "train_test_score(m1)"
   ]
  },
  {
   "cell_type": "code",
   "execution_count": 39,
   "id": "647636cc",
   "metadata": {},
   "outputs": [
    {
     "name": "stdout",
     "output_type": "stream",
     "text": [
      "['M' 'R' 'M' 'R' 'M' 'R' 'M' 'R' 'R' 'R' 'M' 'M' 'M' 'M' 'M' 'R' 'M' 'M'\n",
      " 'R' 'R' 'M' 'R' 'R' 'R' 'R' 'R' 'R' 'M' 'M' 'R' 'R' 'R' 'M' 'M' 'M' 'R'\n",
      " 'M' 'R' 'M' 'R' 'M' 'M' 'M' 'R' 'M' 'R' 'M' 'M' 'M' 'R' 'M' 'R']\n"
     ]
    }
   ],
   "source": [
    "ypred_m1=m1.predict(x_test)\n",
    "print(ypred_m1)"
   ]
  },
  {
   "cell_type": "code",
   "execution_count": 40,
   "id": "8a7a62d4",
   "metadata": {},
   "outputs": [
    {
     "name": "stdout",
     "output_type": "stream",
     "text": [
      "Accuracy Score 0.7307692307692307\n",
      "[[21  8]\n",
      " [ 6 17]]\n",
      "              precision    recall  f1-score   support\n",
      "\n",
      "           M       0.78      0.72      0.75        29\n",
      "           R       0.68      0.74      0.71        23\n",
      "\n",
      "    accuracy                           0.73        52\n",
      "   macro avg       0.73      0.73      0.73        52\n",
      "weighted avg       0.73      0.73      0.73        52\n",
      "\n"
     ]
    }
   ],
   "source": [
    "gen_metrics(y_test,ypred_m1)"
   ]
  },
  {
   "cell_type": "markdown",
   "id": "26b441ed",
   "metadata": {},
   "source": [
    "#### Random Forest Classifier"
   ]
  },
  {
   "cell_type": "code",
   "execution_count": 73,
   "id": "0ed30081",
   "metadata": {},
   "outputs": [
    {
     "data": {
      "text/plain": [
       "RandomForestClassifier(max_depth=10, min_samples_split=8, n_estimators=125)"
      ]
     },
     "execution_count": 73,
     "metadata": {},
     "output_type": "execute_result"
    }
   ],
   "source": [
    "m2=RandomForestClassifier(n_estimators=125,criterion='gini',max_depth=10,min_samples_split=8)\n",
    "m2.fit(x_train,y_train)"
   ]
  },
  {
   "cell_type": "code",
   "execution_count": 74,
   "id": "212790d6",
   "metadata": {},
   "outputs": [
    {
     "name": "stdout",
     "output_type": "stream",
     "text": [
      "Training Score 1.0\n",
      "Testing Score 0.8461538461538461\n"
     ]
    }
   ],
   "source": [
    "train_test_score(m2)"
   ]
  },
  {
   "cell_type": "code",
   "execution_count": 75,
   "id": "0091a78c",
   "metadata": {},
   "outputs": [
    {
     "name": "stdout",
     "output_type": "stream",
     "text": [
      "['R' 'R' 'M' 'R' 'M' 'R' 'M' 'R' 'R' 'M' 'M' 'M' 'R' 'M' 'M' 'R' 'R' 'M'\n",
      " 'M' 'R' 'M' 'R' 'R' 'M' 'R' 'M' 'R' 'M' 'M' 'R' 'R' 'R' 'R' 'M' 'M' 'R'\n",
      " 'M' 'M' 'M' 'R' 'M' 'M' 'M' 'R' 'M' 'M' 'R' 'R' 'M' 'R' 'M' 'R']\n"
     ]
    }
   ],
   "source": [
    "ypred_m2=m2.predict(x_test)\n",
    "print(ypred_m2)"
   ]
  },
  {
   "cell_type": "code",
   "execution_count": 76,
   "id": "48dac03e",
   "metadata": {},
   "outputs": [
    {
     "name": "stdout",
     "output_type": "stream",
     "text": [
      "Metrics for Random Forest Classifier\n",
      "Accuracy Score 0.8461538461538461\n",
      "[[24  5]\n",
      " [ 3 20]]\n",
      "              precision    recall  f1-score   support\n",
      "\n",
      "           M       0.89      0.83      0.86        29\n",
      "           R       0.80      0.87      0.83        23\n",
      "\n",
      "    accuracy                           0.85        52\n",
      "   macro avg       0.84      0.85      0.85        52\n",
      "weighted avg       0.85      0.85      0.85        52\n",
      "\n"
     ]
    }
   ],
   "source": [
    "print('Metrics for Random Forest Classifier')\n",
    "gen_metrics(y_test,ypred_m2)"
   ]
  },
  {
   "cell_type": "markdown",
   "id": "c4115ff2",
   "metadata": {},
   "source": [
    "### HyperParameter Tuning \n",
    "\n",
    "Tuning model hyperparameters such that the model generates the best performance.\n",
    "\n",
    "There are 2 methods of Hyperparameter Tuning<br>\n",
    "<b>1)GridSearchCV</b><br>\n",
    "a) It takes into consideration all the permutations and combinations of the hyperparameters and returns the hyperparameters that would generate the best result.<br>\n",
    "b)It contains a lot of time.<br>\n",
    "\n",
    "<b>2) RandomizedSearchCV</b><br>\n",
    "a)It takes into consideration some random subset of hyperparameters and returns the hyperparameters that would generate the best out of those randomly sa,pled hyperparameters.\n",
    "b)It consumes a comparatively less time. "
   ]
  },
  {
   "cell_type": "code",
   "execution_count": 50,
   "id": "954d26c1",
   "metadata": {},
   "outputs": [],
   "source": [
    "from sklearn.model_selection import GridSearchCV, RandomizedSearchCV"
   ]
  },
  {
   "cell_type": "markdown",
   "id": "32ab25cf",
   "metadata": {},
   "source": [
    "### Applying Decison Tree using RandomizedSearchCV and GridSearchCV"
   ]
  },
  {
   "cell_type": "code",
   "execution_count": 85,
   "id": "f593bcdb",
   "metadata": {},
   "outputs": [],
   "source": [
    "params_dt={'criterion':['gini','entropy'],\n",
    "          'max_depth':[10,12,8,7,6],\n",
    "          'min_samples_split':[7,9,10,12,15,20]}"
   ]
  },
  {
   "cell_type": "code",
   "execution_count": 86,
   "id": "f48befa7",
   "metadata": {},
   "outputs": [
    {
     "data": {
      "text/plain": [
       "RandomizedSearchCV(estimator=DecisionTreeClassifier(),\n",
       "                   param_distributions={'criterion': ['gini', 'entropy'],\n",
       "                                        'max_depth': [10, 12, 8, 7, 6],\n",
       "                                        'min_samples_split': [7, 9, 10, 12, 15,\n",
       "                                                              20]},\n",
       "                   scoring='accuracy')"
      ]
     },
     "execution_count": 86,
     "metadata": {},
     "output_type": "execute_result"
    }
   ],
   "source": [
    "dt1=DecisionTreeClassifier()\n",
    "rs1=RandomizedSearchCV(dt1,param_distributions=params_dt,scoring='accuracy')\n",
    "rs1.fit(x_train,y_train)"
   ]
  },
  {
   "cell_type": "code",
   "execution_count": 87,
   "id": "2a248004",
   "metadata": {},
   "outputs": [
    {
     "name": "stdout",
     "output_type": "stream",
     "text": [
      "Training Score 0.9871794871794872\n",
      "Testing Score 0.7884615384615384\n"
     ]
    }
   ],
   "source": [
    "train_test_score(rs1)"
   ]
  },
  {
   "cell_type": "code",
   "execution_count": 88,
   "id": "3124e40a",
   "metadata": {},
   "outputs": [
    {
     "name": "stdout",
     "output_type": "stream",
     "text": [
      "{'min_samples_split': 10, 'max_depth': 6, 'criterion': 'entropy'}\n",
      "DecisionTreeClassifier(criterion='entropy', max_depth=6, min_samples_split=10)\n"
     ]
    }
   ],
   "source": [
    "print(rs1.best_params_)\n",
    "print(rs1.best_estimator_)"
   ]
  },
  {
   "cell_type": "code",
   "execution_count": 89,
   "id": "3784ffa4",
   "metadata": {},
   "outputs": [
    {
     "data": {
      "text/plain": [
       "GridSearchCV(estimator=DecisionTreeClassifier(), n_jobs=1,\n",
       "             param_grid={'criterion': ['gini', 'entropy'],\n",
       "                         'max_depth': [10, 12, 8, 7, 6],\n",
       "                         'min_samples_split': [7, 9, 10, 12, 15, 20]},\n",
       "             scoring='accuracy')"
      ]
     },
     "execution_count": 89,
     "metadata": {},
     "output_type": "execute_result"
    }
   ],
   "source": [
    "dt2=DecisionTreeClassifier()\n",
    "gs1=GridSearchCV(dt2,param_grid=params_dt,scoring='accuracy',n_jobs=1)\n",
    "gs1.fit(x_train,y_train)"
   ]
  },
  {
   "cell_type": "code",
   "execution_count": 90,
   "id": "09363558",
   "metadata": {},
   "outputs": [
    {
     "name": "stdout",
     "output_type": "stream",
     "text": [
      "Training Score 0.9935897435897436\n",
      "Testing Score 0.7884615384615384\n"
     ]
    }
   ],
   "source": [
    "train_test_score(gs1)"
   ]
  },
  {
   "cell_type": "code",
   "execution_count": 91,
   "id": "ffe786f2",
   "metadata": {},
   "outputs": [
    {
     "name": "stdout",
     "output_type": "stream",
     "text": [
      "{'criterion': 'entropy', 'max_depth': 10, 'min_samples_split': 9}\n",
      "DecisionTreeClassifier(criterion='entropy', max_depth=10, min_samples_split=9)\n"
     ]
    }
   ],
   "source": [
    "print(gs1.best_params_)\n",
    "print(gs1.best_estimator_)"
   ]
  },
  {
   "cell_type": "markdown",
   "id": "47ad10ec",
   "metadata": {},
   "source": [
    "### Applying GridSearchCV and RandomizedSearchCV on RandomForestClassifier"
   ]
  },
  {
   "cell_type": "code",
   "execution_count": 92,
   "id": "d0cb811f",
   "metadata": {},
   "outputs": [],
   "source": [
    "params_rf={'n_estimators':[75,100,125,150],\n",
    "          'criterion':['gini','entropy'],\n",
    "          'max_depth':[10,12,15],\n",
    "          'min_samples_split':[8,14,20]}"
   ]
  },
  {
   "cell_type": "code",
   "execution_count": 93,
   "id": "7ace5b2b",
   "metadata": {},
   "outputs": [
    {
     "data": {
      "text/plain": [
       "RandomizedSearchCV(estimator=RandomForestClassifier(),\n",
       "                   param_distributions={'criterion': ['gini', 'entropy'],\n",
       "                                        'max_depth': [10, 12, 15],\n",
       "                                        'min_samples_split': [8, 14, 20],\n",
       "                                        'n_estimators': [75, 100, 125, 150]},\n",
       "                   scoring='accuracy')"
      ]
     },
     "execution_count": 93,
     "metadata": {},
     "output_type": "execute_result"
    }
   ],
   "source": [
    "rf1=RandomForestClassifier()\n",
    "rs2=RandomizedSearchCV(rf1,param_distributions=params_rf,scoring='accuracy')\n",
    "rs2.fit(x_train,y_train)"
   ]
  },
  {
   "cell_type": "code",
   "execution_count": 94,
   "id": "32b81455",
   "metadata": {},
   "outputs": [
    {
     "name": "stdout",
     "output_type": "stream",
     "text": [
      "Training Score 1.0\n",
      "Testing Score 0.8269230769230769\n"
     ]
    }
   ],
   "source": [
    "train_test_score(rs2)"
   ]
  },
  {
   "cell_type": "code",
   "execution_count": 95,
   "id": "6cab14bc",
   "metadata": {},
   "outputs": [
    {
     "name": "stdout",
     "output_type": "stream",
     "text": [
      "{'n_estimators': 75, 'min_samples_split': 14, 'max_depth': 12, 'criterion': 'gini'}\n",
      "RandomForestClassifier(max_depth=12, min_samples_split=14, n_estimators=75)\n"
     ]
    }
   ],
   "source": [
    "print(rs2.best_params_)\n",
    "print(rs2.best_estimator_)"
   ]
  },
  {
   "cell_type": "code",
   "execution_count": 104,
   "id": "f1d47aad",
   "metadata": {},
   "outputs": [
    {
     "data": {
      "text/plain": [
       "GridSearchCV(estimator=RandomForestClassifier(), n_jobs=1,\n",
       "             param_grid={'criterion': ['gini', 'entropy'],\n",
       "                         'max_depth': [10, 12, 15],\n",
       "                         'min_samples_split': [8, 14, 20],\n",
       "                         'n_estimators': [75, 100, 125, 150]},\n",
       "             scoring='accuracy')"
      ]
     },
     "execution_count": 104,
     "metadata": {},
     "output_type": "execute_result"
    }
   ],
   "source": [
    "rf2=RandomForestClassifier()\n",
    "gs2=GridSearchCV(rf2,param_grid=params_rf,scoring='accuracy',n_jobs=1)\n",
    "gs2.fit(x_train,y_train)"
   ]
  },
  {
   "cell_type": "code",
   "execution_count": 105,
   "id": "175289a5",
   "metadata": {},
   "outputs": [
    {
     "name": "stdout",
     "output_type": "stream",
     "text": [
      "Training Score 1.0\n",
      "Testing Score 0.75\n"
     ]
    }
   ],
   "source": [
    "train_test_score(gs2)"
   ]
  },
  {
   "cell_type": "code",
   "execution_count": 106,
   "id": "6eddcca6",
   "metadata": {},
   "outputs": [
    {
     "name": "stdout",
     "output_type": "stream",
     "text": [
      "{'criterion': 'entropy', 'max_depth': 10, 'min_samples_split': 8, 'n_estimators': 100}\n",
      "RandomForestClassifier(criterion='entropy', max_depth=10, min_samples_split=8)\n"
     ]
    }
   ],
   "source": [
    "print(gs2.best_params_)\n",
    "print(gs2.best_estimator_)"
   ]
  },
  {
   "cell_type": "markdown",
   "id": "0c245589",
   "metadata": {},
   "source": [
    "### Applying GridSearchCV and RandomizedSearchCV on KNN"
   ]
  },
  {
   "cell_type": "code",
   "execution_count": 110,
   "id": "671fd3a3",
   "metadata": {},
   "outputs": [],
   "source": [
    "params_knn={'n_neighbors':list(range(7,21,2))}"
   ]
  },
  {
   "cell_type": "code",
   "execution_count": 111,
   "id": "e1da81d7",
   "metadata": {},
   "outputs": [
    {
     "data": {
      "text/plain": [
       "GridSearchCV(estimator=KNeighborsClassifier(),\n",
       "             param_grid={'n_neighbors': [7, 9, 11, 13, 15, 17, 19]},\n",
       "             scoring='accuracy')"
      ]
     },
     "execution_count": 111,
     "metadata": {},
     "output_type": "execute_result"
    }
   ],
   "source": [
    "knn1=KNeighborsClassifier()\n",
    "gs3=GridSearchCV(knn1,param_grid=params_knn,scoring='accuracy')\n",
    "gs3.fit(x_train,y_train)"
   ]
  },
  {
   "cell_type": "code",
   "execution_count": 108,
   "id": "5358208e",
   "metadata": {},
   "outputs": [
    {
     "name": "stdout",
     "output_type": "stream",
     "text": [
      "Training Score 0.7051282051282052\n",
      "Testing Score 0.6730769230769231\n"
     ]
    }
   ],
   "source": [
    "train_test_score(gs3)"
   ]
  },
  {
   "cell_type": "code",
   "execution_count": 123,
   "id": "132cff9d",
   "metadata": {},
   "outputs": [
    {
     "name": "stdout",
     "output_type": "stream",
     "text": [
      "{'n_neighbors': 15}\n",
      "KNeighborsClassifier(n_neighbors=15)\n"
     ]
    }
   ],
   "source": [
    "print(gs3.best_params_)\n",
    "print(gs3.best_estimator_)"
   ]
  },
  {
   "cell_type": "code",
   "execution_count": 116,
   "id": "0d2f77ab",
   "metadata": {},
   "outputs": [
    {
     "name": "stderr",
     "output_type": "stream",
     "text": [
      "C:\\Users\\aman0\\anaconda3\\lib\\site-packages\\sklearn\\model_selection\\_search.py:285: UserWarning: The total space of parameters 7 is smaller than n_iter=10. Running 7 iterations. For exhaustive searches, use GridSearchCV.\n",
      "  warnings.warn(\n"
     ]
    },
    {
     "data": {
      "text/plain": [
       "RandomizedSearchCV(estimator=KNeighborsClassifier(),\n",
       "                   param_distributions={'n_neighbors': [7, 9, 11, 13, 15, 17,\n",
       "                                                        19]},\n",
       "                   scoring='accuracy')"
      ]
     },
     "execution_count": 116,
     "metadata": {},
     "output_type": "execute_result"
    }
   ],
   "source": [
    "knn2=KNeighborsClassifier()\n",
    "rs3=RandomizedSearchCV(knn2,param_distributions=params_knn,scoring='accuracy')\n",
    "rs3.fit(x_train,y_train)"
   ]
  },
  {
   "cell_type": "code",
   "execution_count": 121,
   "id": "d7e89936",
   "metadata": {},
   "outputs": [
    {
     "name": "stdout",
     "output_type": "stream",
     "text": [
      "Training Score 0.7051282051282052\n",
      "Testing Score 0.6730769230769231\n"
     ]
    }
   ],
   "source": [
    "train_test_score(rs3)"
   ]
  },
  {
   "cell_type": "code",
   "execution_count": 122,
   "id": "bda255de",
   "metadata": {},
   "outputs": [
    {
     "name": "stdout",
     "output_type": "stream",
     "text": [
      "{'n_neighbors': 15}\n",
      "KNeighborsClassifier(n_neighbors=15)\n"
     ]
    }
   ],
   "source": [
    "print(rs3.best_params_)\n",
    "print(rs3.best_estimator_)"
   ]
  }
 ],
 "metadata": {
  "kernelspec": {
   "display_name": "Python 3",
   "language": "python",
   "name": "python3"
  },
  "language_info": {
   "codemirror_mode": {
    "name": "ipython",
    "version": 3
   },
   "file_extension": ".py",
   "mimetype": "text/x-python",
   "name": "python",
   "nbconvert_exporter": "python",
   "pygments_lexer": "ipython3",
   "version": "3.8.8"
  }
 },
 "nbformat": 4,
 "nbformat_minor": 5
}
